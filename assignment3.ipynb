{
 "cells": [
  {
   "cell_type": "code",
   "execution_count": 1,
   "id": "0444dfb8-642e-4842-9764-0d432533420b",
   "metadata": {},
   "outputs": [],
   "source": [
    "# Explain the significance of Python keywords and provide examples of five keywords"
   ]
  },
  {
   "cell_type": "code",
   "execution_count": 4,
   "id": "ff4820ed-0b4b-4770-a6cf-3a44db159100",
   "metadata": {},
   "outputs": [
    {
     "name": "stdout",
     "output_type": "stream",
     "text": [
      "['False', 'None', 'True', 'and', 'as', 'assert', 'async', 'await', 'break', 'class', 'continue', 'def', 'del', 'elif', 'else', 'except', 'finally', 'for', 'from', 'global', 'if', 'import', 'in', 'is', 'lambda', 'nonlocal', 'not', 'or', 'pass', 'raise', 'return', 'try', 'while', 'with', 'yield']\n"
     ]
    }
   ],
   "source": [
    "import keyword\n",
    "print(keyword.kwlist)"
   ]
  },
  {
   "cell_type": "code",
   "execution_count": 5,
   "id": "ff6cc968-a356-4c80-8bc3-39380ea95013",
   "metadata": {},
   "outputs": [],
   "source": [
    "# Describe the rules for defining identifiers in Python and provide an example?\n",
    "# IDENTIFIERS>>> IDENTIFIRES ARE UNIQUE NAMES THAT ASSIGNED VARIABLE, FUNCTION AND OTHER ENTITIES. \n",
    "# THEY ARE USED TO UNIQUELY IDENTIFY ENTIRE ENTITYSWITHIN THE PROGREM"
   ]
  },
  {
   "cell_type": "code",
   "execution_count": 6,
   "id": "8cf124a0-9d34-4c97-9073-b3ef79b966c4",
   "metadata": {},
   "outputs": [
    {
     "name": "stdout",
     "output_type": "stream",
     "text": [
      "prashant sanjay swami\n"
     ]
    }
   ],
   "source": [
    "first = \"prashant\"\n",
    "middle = \"sanjay\"\n",
    "last = \"swami\"\n",
    "\n",
    "print(first, middle, last)"
   ]
  },
  {
   "cell_type": "code",
   "execution_count": null,
   "id": "0a49f778-d154-439f-91c7-cc6d86210650",
   "metadata": {},
   "outputs": [],
   "source": [
    "# What are comments in Python, and why are they usefule Provide an example?.\n",
    ">>>EVERYTHING AFTER THIS (#) SYMBOL ON THE SAME LINE IS CINSIDER A COMMENT AND NOT CONSIDER AS THE PART OF EXICUTION OF CODE\n",
    ">>>THEY ARE USEFULL FOE WHEN WE ARE READING A CODE."
   ]
  },
  {
   "cell_type": "code",
   "execution_count": 7,
   "id": "b45c3fa2-b2b4-4cf0-b6c7-7a9135ab7359",
   "metadata": {},
   "outputs": [
    {
     "name": "stdout",
     "output_type": "stream",
     "text": [
      "prashant sanjay swami\n"
     ]
    }
   ],
   "source": [
    "first = \"prashant\"\n",
    "middle = \"sanjay\"\n",
    "last = \"swami\"\n",
    "# print full name\n",
    "print(first, middle, last)"
   ]
  },
  {
   "cell_type": "code",
   "execution_count": 8,
   "id": "2eeab763-14b5-447f-b2ea-6251003f726f",
   "metadata": {},
   "outputs": [],
   "source": [
    "# Why is proper indentation important in Python?."
   ]
  },
  {
   "cell_type": "code",
   "execution_count": null,
   "id": "2ee7fc20-13b0-4346-96d6-37cef6d89e2f",
   "metadata": {},
   "outputs": [],
   "source": [
    ">>> indentation is a way of telling python interpreter that the group of statements belongs to a perticuler block of code.\n",
    ">>> it refers to adding white space before a statement with the same space to the right, belong to the same code block."
   ]
  },
  {
   "cell_type": "code",
   "execution_count": null,
   "id": "48c29277-8acd-4968-bea0-5657b5efb654",
   "metadata": {},
   "outputs": [],
   "source": [
    "# 5 What happens if indentation is incorrect in Python.?\n",
    ">>> if the python indentation in incorect or not given then code will not get exicuted and we get error in code \n",
    ">>>it is not compile the code"
   ]
  },
  {
   "cell_type": "code",
   "execution_count": null,
   "id": "267e9f45-cbb8-45ad-a460-2ca4b0257886",
   "metadata": {},
   "outputs": [],
   "source": []
  },
  {
   "cell_type": "code",
   "execution_count": null,
   "id": "846cc6fc-aa60-4fb3-8023-c7dae6f8f341",
   "metadata": {},
   "outputs": [],
   "source": []
  }
 ],
 "metadata": {
  "kernelspec": {
   "display_name": "Python 3 (ipykernel)",
   "language": "python",
   "name": "python3"
  },
  "language_info": {
   "codemirror_mode": {
    "name": "ipython",
    "version": 3
   },
   "file_extension": ".py",
   "mimetype": "text/x-python",
   "name": "python",
   "nbconvert_exporter": "python",
   "pygments_lexer": "ipython3",
   "version": "3.10.8"
  }
 },
 "nbformat": 4,
 "nbformat_minor": 5
}
